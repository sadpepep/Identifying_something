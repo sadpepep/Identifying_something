{
  "nbformat": 4,
  "nbformat_minor": 0,
  "metadata": {
    "colab": {
      "provenance": []
    },
    "kernelspec": {
      "name": "python3",
      "display_name": "Python 3"
    },
    "language_info": {
      "name": "python"
    }
  },
  "cells": [
    {
      "cell_type": "markdown",
      "source": [
        "**ЗАДАНИЕ №1**"
      ],
      "metadata": {
        "id": "GGSZ5m_G4z3r"
      }
    },
    {
      "cell_type": "markdown",
      "source": [
        "Шаг 1. Сначала я загружаю и обрабатываю данные.\n",
        "Затем создаю колонку с ценой на основании количества заказов, выручки и скидки (расчет цены произвожу с учетом того, что в колонке выручка значения даны со скидкой)."
      ],
      "metadata": {
        "id": "iTF_Eu0G7peN"
      }
    },
    {
      "cell_type": "code",
      "source": [
        "import pandas as pd\n",
        "import numpy as np\n",
        "import seaborn as sns\n",
        "import statsmodels.api as sm\n",
        "import matplotlib.pyplot as plt\n",
        "from sklearn import preprocessing, svm\n",
        "from sklearn.model_selection import train_test_split\n",
        "from sklearn.linear_model import LinearRegression"
      ],
      "metadata": {
        "id": "zGAnOKxL7-9O"
      },
      "execution_count": 2,
      "outputs": []
    },
    {
      "cell_type": "code",
      "execution_count": null,
      "metadata": {
        "id": "2AYAaTK0q6s7"
      },
      "outputs": [],
      "source": [
        "data = pd.read_excel('Тест_Junior.xlsx', sheet_name = 'Данные')\n",
        "data = data.rename(columns={\"СКЮ\": \"SKU\", \"Заказы, шт\": \"orders\", \"Выручка по заказам, руб\": \"revenue\", 'Скидка, %':'discount', 'Рейтинг':'card_rating', 'Рейтинг по отзывам':'review_rating', 'Отзывы, шт':'review_num'})\n",
        "\n",
        "data['price'] = (data['revenue']/data['orders'])/(100-data['discount'])*100\n",
        "data.head()\n",
        "data.describe()"
      ]
    },
    {
      "cell_type": "code",
      "source": [
        "data.isna().sum() # Считаю пропуски в данных"
      ],
      "metadata": {
        "colab": {
          "base_uri": "https://localhost:8080/",
          "height": 335
        },
        "id": "bfNTGcnR8VmF",
        "outputId": "32830be4-250c-4d0f-8e6d-2b7a150526c2"
      },
      "execution_count": 4,
      "outputs": [
        {
          "output_type": "execute_result",
          "data": {
            "text/plain": [
              "SKU              0\n",
              "orders           0\n",
              "revenue          0\n",
              "discount         0\n",
              "card_rating      0\n",
              "review_rating    0\n",
              "review_num       0\n",
              "price            0\n",
              "dtype: int64"
            ],
            "text/html": [
              "<div>\n",
              "<style scoped>\n",
              "    .dataframe tbody tr th:only-of-type {\n",
              "        vertical-align: middle;\n",
              "    }\n",
              "\n",
              "    .dataframe tbody tr th {\n",
              "        vertical-align: top;\n",
              "    }\n",
              "\n",
              "    .dataframe thead th {\n",
              "        text-align: right;\n",
              "    }\n",
              "</style>\n",
              "<table border=\"1\" class=\"dataframe\">\n",
              "  <thead>\n",
              "    <tr style=\"text-align: right;\">\n",
              "      <th></th>\n",
              "      <th>0</th>\n",
              "    </tr>\n",
              "  </thead>\n",
              "  <tbody>\n",
              "    <tr>\n",
              "      <th>SKU</th>\n",
              "      <td>0</td>\n",
              "    </tr>\n",
              "    <tr>\n",
              "      <th>orders</th>\n",
              "      <td>0</td>\n",
              "    </tr>\n",
              "    <tr>\n",
              "      <th>revenue</th>\n",
              "      <td>0</td>\n",
              "    </tr>\n",
              "    <tr>\n",
              "      <th>discount</th>\n",
              "      <td>0</td>\n",
              "    </tr>\n",
              "    <tr>\n",
              "      <th>card_rating</th>\n",
              "      <td>0</td>\n",
              "    </tr>\n",
              "    <tr>\n",
              "      <th>review_rating</th>\n",
              "      <td>0</td>\n",
              "    </tr>\n",
              "    <tr>\n",
              "      <th>review_num</th>\n",
              "      <td>0</td>\n",
              "    </tr>\n",
              "    <tr>\n",
              "      <th>price</th>\n",
              "      <td>0</td>\n",
              "    </tr>\n",
              "  </tbody>\n",
              "</table>\n",
              "</div><br><label><b>dtype:</b> int64</label>"
            ]
          },
          "metadata": {},
          "execution_count": 4
        }
      ]
    },
    {
      "cell_type": "markdown",
      "source": [
        "Шаг 2. Визуализация данных\n",
        "\n",
        "На графике видны значения, похожие на выбросы, однако в нашей выборке СКЮ не повторяются, а значит математические выбросы могут на самом деле отражать особенные характеристики товара. Регрессия лучше работает на данных без выбросов, однако здесь я не буду их удалять, чтобы избежать потенциальной потери важной информации."
      ],
      "metadata": {
        "id": "ptmEnu2J4yVI"
      }
    },
    {
      "cell_type": "code",
      "source": [
        "sns.scatterplot(x=\"price\", y=\"orders\", data=data, color = 'lightblue').set(title='Зависимость заказов от цены')\n",
        "plt.show()"
      ],
      "metadata": {
        "colab": {
          "base_uri": "https://localhost:8080/",
          "height": 472
        },
        "id": "w52wHCsR7Eld",
        "outputId": "b5b52ceb-7101-4f56-9287-085dc1641c62"
      },
      "execution_count": 5,
      "outputs": [
        {
          "output_type": "display_data",
          "data": {
            "text/plain": [
              "<Figure size 640x480 with 1 Axes>"
            ],
            "image/png": "[encoded data removed]"
          },
          "metadata": {}
        }
      ]
    },
    {
      "cell_type": "markdown",
      "source": [
        "Модель, описывающая зависимость цены от спроса, может быть как линейной, так и нелинейной (ниже приведены графики)."
      ],
      "metadata": {
        "id": "dcvQRqDT7ucm"
      }
    },
    {
      "cell_type": "code",
      "source": [
        "data_binary = data[['orders', 'price']]\n",
        "sns.lmplot(y =\"orders\", x =\"price\", data = data_binary, order = 1, ci = None, line_kws={'color': 'grey'}, scatter_kws={'color': 'lightblue'}).set(title='Линейная зависимость')\n",
        "plt.show()\n",
        "\n",
        "data_binary = data[['orders', 'price']]\n",
        "sns.lmplot(y =\"orders\", x =\"price\", data = data_binary, order = 2, ci = None, line_kws={'color': 'grey'}, scatter_kws={'color': 'lightblue'}).set(title='Нелинейная зависимость')\n",
        "plt.show()"
      ],
      "metadata": {
        "colab": {
          "base_uri": "https://localhost:8080/",
          "height": 1000
        },
        "id": "4A__4wR27Ypw",
        "outputId": "faaff789-2a36-489d-b1b1-32785db3f623"
      },
      "execution_count": 6,
      "outputs": [
        {
          "output_type": "display_data",
          "data": {
            "text/plain": [
              "<Figure size 500x500 with 1 Axes>"
            ],
            "image/png": "[encoded data removed]"
          },
          "metadata": {}
        },
        {
          "output_type": "display_data",
          "data": {
            "text/plain": [
              "<Figure size 500x500 with 1 Axes>"
            ],
            "image/png": "[encoded data removed]"
          },
          "metadata": {}
        }
      ]
    },
    {
      "cell_type": "markdown",
      "source": [
        "Нелинейность возникает для товаров роскоши - если в выборке они есть, то это может приводить к увеличению спроса при более высоких ценах. Поэтому я построю оба типа регрессий и сравню их по объясняющей силе (R^2) и информационным критериям (BIC, AIC)."
      ],
      "metadata": {
        "id": "09rHf1hd8j4Y"
      }
    },
    {
      "cell_type": "markdown",
      "source": [
        "Шаг 3. Линейная регрессия"
      ],
      "metadata": {
        "id": "-GRy1sFpHFFV"
      }
    },
    {
      "cell_type": "code",
      "source": [
        "X = data['price']\n",
        "Y = data['orders']\n",
        "X = sm.add_constant(X) # Добавление константы\n",
        "model_linear = sm.OLS(Y, X).fit()\n",
        "\n",
        "print(\"R² =\", model_linear.rsquared.round(4))\n",
        "print(\"BIC =\", model_linear.bic.round(1))\n",
        "print(\"AIC =\", model_linear.aic.round(1))\n",
        "model_linear.summary().tables[1]"
      ],
      "metadata": {
        "colab": {
          "base_uri": "https://localhost:8080/",
          "height": 135
        },
        "id": "x0FL8wzs8FDz",
        "outputId": "06c45889-99e0-44e5-e2b4-80dd357fe26e"
      },
      "execution_count": 7,
      "outputs": [
        {
          "output_type": "stream",
          "name": "stdout",
          "text": [
            "R² = 0.061\n",
            "BIC = 9757.5\n",
            "AIC = 9749.0\n"
          ]
        },
        {
          "output_type": "execute_result",
          "data": {
            "text/plain": [
              "<class 'statsmodels.iolib.table.SimpleTable'>"
            ],
            "text/html": [
              "<table class=\"simpletable\">\n",
              "<tr>\n",
              "    <td></td>       <th>coef</th>     <th>std err</th>      <th>t</th>      <th>P>|t|</th>  <th>[0.025</th>    <th>0.975]</th>  \n",
              "</tr>\n",
              "<tr>\n",
              "  <th>const</th> <td> 4225.2339</td> <td>  349.643</td> <td>   12.084</td> <td> 0.000</td> <td> 3538.276</td> <td> 4912.192</td>\n",
              "</tr>\n",
              "<tr>\n",
              "  <th>price</th> <td>   -0.7103</td> <td>    0.125</td> <td>   -5.689</td> <td> 0.000</td> <td>   -0.956</td> <td>   -0.465</td>\n",
              "</tr>\n",
              "</table>"
            ],
            "text/latex": "\\begin{center}\n\\begin{tabular}{lcccccc}\n\\toprule\n               & \\textbf{coef} & \\textbf{std err} & \\textbf{t} & \\textbf{P$> |$t$|$} & \\textbf{[0.025} & \\textbf{0.975]}  \\\\\n\\midrule\n\\textbf{const} &    4225.2339  &      349.643     &    12.084  &         0.000        &     3538.276    &     4912.192     \\\\\n\\textbf{price} &      -0.7103  &        0.125     &    -5.689  &         0.000        &       -0.956    &       -0.465     \\\\\n\\bottomrule\n\\end{tabular}\n\\end{center}"
          },
          "metadata": {},
          "execution_count": 7
        }
      ]
    },
    {
      "cell_type": "markdown",
      "source": [
        "Шаг 4. Нелинейная регрессия"
      ],
      "metadata": {
        "id": "9j2VWRLcHLiS"
      }
    },
    {
      "cell_type": "code",
      "source": [
        "X = data['price']\n",
        "y = data['orders']\n",
        "X_quad = np.column_stack((X, X**2))\n",
        "X_quad = sm.add_constant(X_quad) # Добавление константы\n",
        "model_nonlinear = sm.OLS(y, X_quad).fit()\n",
        "\n",
        "print(\"R² =\", model_nonlinear.rsquared.round(4))\n",
        "print(\"BIC =\", model_nonlinear.bic.round(1))\n",
        "print(\"AIC =\", model_nonlinear.aic.round(1))\n",
        "model_nonlinear.summary().tables[1]"
      ],
      "metadata": {
        "colab": {
          "base_uri": "https://localhost:8080/",
          "height": 157
        },
        "id": "PJwN-eKr8Fdh",
        "outputId": "f326dee3-6ae5-4408-dfe5-8d0b4bd0dd66"
      },
      "execution_count": 8,
      "outputs": [
        {
          "output_type": "stream",
          "name": "stdout",
          "text": [
            "R² = 0.1001\n",
            "BIC = 9742.4\n",
            "AIC = 9729.8\n"
          ]
        },
        {
          "output_type": "execute_result",
          "data": {
            "text/plain": [
              "<class 'statsmodels.iolib.table.SimpleTable'>"
            ],
            "text/html": [
              "<table class=\"simpletable\">\n",
              "<tr>\n",
              "    <td></td>       <th>coef</th>     <th>std err</th>      <th>t</th>      <th>P>|t|</th>  <th>[0.025</th>    <th>0.975]</th>  \n",
              "</tr>\n",
              "<tr>\n",
              "  <th>const</th> <td> 6311.4263</td> <td>  565.016</td> <td>   11.170</td> <td> 0.000</td> <td> 5201.312</td> <td> 7421.540</td>\n",
              "</tr>\n",
              "<tr>\n",
              "  <th>x1</th>    <td>   -2.3202</td> <td>    0.368</td> <td>   -6.311</td> <td> 0.000</td> <td>   -3.043</td> <td>   -1.598</td>\n",
              "</tr>\n",
              "<tr>\n",
              "  <th>x2</th>    <td>    0.0002</td> <td> 4.77e-05</td> <td>    4.644</td> <td> 0.000</td> <td>    0.000</td> <td>    0.000</td>\n",
              "</tr>\n",
              "</table>"
            ],
            "text/latex": "\\begin{center}\n\\begin{tabular}{lcccccc}\n\\toprule\n               & \\textbf{coef} & \\textbf{std err} & \\textbf{t} & \\textbf{P$> |$t$|$} & \\textbf{[0.025} & \\textbf{0.975]}  \\\\\n\\midrule\n\\textbf{const} &    6311.4263  &      565.016     &    11.170  &         0.000        &     5201.312    &     7421.540     \\\\\n\\textbf{x1}    &      -2.3202  &        0.368     &    -6.311  &         0.000        &       -3.043    &       -1.598     \\\\\n\\textbf{x2}    &       0.0002  &     4.77e-05     &     4.644  &         0.000        &        0.000    &        0.000     \\\\\n\\bottomrule\n\\end{tabular}\n\\end{center}"
          },
          "metadata": {},
          "execution_count": 8
        }
      ]
    },
    {
      "cell_type": "markdown",
      "source": [
        "Объясняющая сила у квадратической регрессии больше, чем у линейной на 4% (0.10-0.06), информационные критерии также немного лучше у квадратической.\n",
        "\n",
        "Если все-таки есть логическая подоплека для определения нелинейной зависимости, то нужно использовать именно нелинейную модель, однако в нашем случае предположу, что в этом нет необходимости, и никакой из товаров не имеет возрастающий по цене спрос.\n",
        "\n",
        "Разница R^2 не настолько значительна, чтобы использовать нелинейную регрессию в качестве основной и усложнять расчеты, поэтому остановлюсь на линейной модели. Для ответа возьму коэффициент в первой регрессии при цене.\n",
        "\n",
        "\\\n",
        "\n",
        "При этом, важно понимать, что объясняющая сила у обеих моделей достаточно мала, а значит, мы упустили важные переменные в анализе. Более полную модель я соберу в задании 3, а пока я делаю предположение, что другие факторы неизвестны."
      ],
      "metadata": {
        "id": "N_Gg_pLN4-WN"
      }
    },
    {
      "cell_type": "markdown",
      "source": [
        "**▶▶▶ ОТВЕТ №1:**\n",
        "\n",
        "**При увеличении цены на 1 рубль, заказы сокращаются  на 0.71 шт**\n",
        "\n",
        "\\"
      ],
      "metadata": {
        "id": "pI3dmAyjHYPN"
      }
    },
    {
      "cell_type": "markdown",
      "source": [
        "**ЗАДАНИЕ №2**"
      ],
      "metadata": {
        "id": "CYuQLl97_wKu"
      }
    },
    {
      "cell_type": "markdown",
      "source": [
        "Для определения ценовых сегментов воспользуюсь квантилями. Разделю выборку на 4 части:\n",
        "1. Четверть всех цен меньше, чем Q1 - это верхняя граница сегмента \"Эконом минус\" и нижняя граница сегмента \"Эконом\"\n",
        "2. Половина всех цен меньше, чем Q2 - это верхняя граница сегмента \"Эконом\" и нижняя граница сегмента \"Эконом плюс\"\n",
        "3. 75% всех цен меньше, чем Q3 - это верхняя граница сегмента \"Эконом плюс\" и нижняя граница сегмента \"Премиум\"\n",
        "4. 100% всех цен меньше, чем Q4 - это верхняя граница сегмента \"Премиум\""
      ],
      "metadata": {
        "id": "UN7kT7Q0DJOt"
      }
    },
    {
      "cell_type": "code",
      "source": [
        "# Создаю квантили\n",
        "Q0 = np.quantile(data['price'], [0]).round(1)[0]\n",
        "Q1 = np.quantile(data['price'], [0.25]).round(1)[0]\n",
        "Q2 = np.quantile(data['price'], [0.5]).round(1)[0]\n",
        "Q3 = np.quantile(data['price'], [0.75]).round(1)[0]\n",
        "Q4 = np.quantile(data['price'], [1]).round(1)[0]\n",
        "segments = [\n",
        "    (data['price'] <= Q1),\n",
        "    (data['price'] > Q1) & (data['price'] <= Q2),\n",
        "    (data['price'] > Q2) & (data['price'] <= Q3),\n",
        "    (data['price'] > Q3) & (data['price'] <= Q4)]\n",
        "segment_names = ['Эконом минус', 'Эконом', 'Эконом плюс', 'Премиум']\n",
        "order_counts = [data.loc[segment, 'orders'].sum() for segment in segments] # количество orders в каждом сегменте\n",
        "\n",
        "# Визуализация\n",
        "plt.figure()\n",
        "bars = plt.bar(segment_names, order_counts, color='#AD8FD2')\n",
        "plt.xticks(fontsize=8)\n",
        "plt.yticks(fontsize=8)\n",
        "plt.xlabel('')\n",
        "plt.ylabel('Количество заказов')\n",
        "plt.title('Количество заказов в каждом ценовом сегменте', fontsize=10)\n",
        "for bar in bars: #для надписей\n",
        "    yval = bar.get_height()\n",
        "    plt.text(bar.get_x() + bar.get_width() / 2, yval + 5, int(yval), ha='center', va='bottom', fontsize=8, color = '#863BE2')\n",
        "plt.show()\n",
        "\n",
        "\n",
        "table = {'Ценовой сегмент': ['Эконом минус', 'Эконом', 'Эконом плюс', 'Премиум'],\n",
        "        'Цена': [f\"{Q0} - {Q1}\", f\"{Q1} - {Q2}\", f\"{Q2} - {Q3}\", f\"{Q3} - {Q4}\"],\n",
        "         'Количество заказов': order_counts}\n",
        "pd.DataFrame(table)"
      ],
      "metadata": {
        "id": "CoUKf5SiJc_u",
        "colab": {
          "base_uri": "https://localhost:8080/",
          "height": 603
        },
        "outputId": "72919475-17a5-4dab-a1cf-d5b785cfc18a"
      },
      "execution_count": 9,
      "outputs": [
        {
          "output_type": "display_data",
          "data": {
            "text/plain": [
              "<Figure size 640x480 with 1 Axes>"
            ],
            "image/png": "[encoded data removed]"
          },
          "metadata": {}
        },
        {
          "output_type": "execute_result",
          "data": {
            "text/plain": [
              "  Ценовой сегмент              Цена  Количество заказов\n",
              "0    Эконом минус    476.7 - 1291.6              602562\n",
              "1          Эконом   1291.6 - 1973.7              294442\n",
              "2     Эконом плюс   1973.7 - 2977.6              221884\n",
              "3         Премиум  2977.6 - 10423.5              149939"
            ],
            "text/html": [
              "\n",
              "  <div id=\"df-1db88f78-1b71-4704-b62b-6841ae01ab5b\" class=\"colab-df-container\">\n",
              "    <div>\n",
              "<style scoped>\n",
              "    .dataframe tbody tr th:only-of-type {\n",
              "        vertical-align: middle;\n",
              "    }\n",
              "\n",
              "    .dataframe tbody tr th {\n",
              "        vertical-align: top;\n",
              "    }\n",
              "\n",
              "    .dataframe thead th {\n",
              "        text-align: right;\n",
              "    }\n",
              "</style>\n",
              "<table border=\"1\" class=\"dataframe\">\n",
              "  <thead>\n",
              "    <tr style=\"text-align: right;\">\n",
              "      <th></th>\n",
              "      <th>Ценовой сегмент</th>\n",
              "      <th>Цена</th>\n",
              "      <th>Количество заказов</th>\n",
              "    </tr>\n",
              "  </thead>\n",
              "  <tbody>\n",
              "    <tr>\n",
              "      <th>0</th>\n",
              "      <td>Эконом минус</td>\n",
              "      <td>476.7 - 1291.6</td>\n",
              "      <td>602562</td>\n",
              "    </tr>\n",
              "    <tr>\n",
              "      <th>1</th>\n",
              "      <td>Эконом</td>\n",
              "      <td>1291.6 - 1973.7</td>\n",
              "      <td>294442</td>\n",
              "    </tr>\n",
              "    <tr>\n",
              "      <th>2</th>\n",
              "      <td>Эконом плюс</td>\n",
              "      <td>1973.7 - 2977.6</td>\n",
              "      <td>221884</td>\n",
              "    </tr>\n",
              "    <tr>\n",
              "      <th>3</th>\n",
              "      <td>Премиум</td>\n",
              "      <td>2977.6 - 10423.5</td>\n",
              "      <td>149939</td>\n",
              "    </tr>\n",
              "  </tbody>\n",
              "</table>\n",
              "</div>\n",
              "    <div class=\"colab-df-buttons\">\n",
              "\n",
              "  <div class=\"colab-df-container\">\n",
              "    <button class=\"colab-df-convert\" onclick=\"convertToInteractive('df-1db88f78-1b71-4704-b62b-6841ae01ab5b')\"\n",
              "            title=\"Convert this dataframe to an interactive table.\"\n",
              "            style=\"display:none;\">\n",
              "\n",
              "  <svg xmlns=\"http://www.w3.org/2000/svg\" height=\"24px\" viewBox=\"0 -960 960 960\">\n",
              "    <path d=\"M120-120v-720h720v720H120Zm60-500h600v-160H180v160Zm220 220h160v-160H400v160Zm0 220h160v-160H400v160ZM180-400h160v-160H180v160Zm440 0h160v-160H620v160ZM180-180h160v-160H180v160Zm440 0h160v-160H620v160Z\"/>\n",
              "  </svg>\n",
              "    </button>\n",
              "\n",
              "  <style>\n",
              "    .colab-df-container {\n",
              "      display:flex;\n",
              "      gap: 12px;\n",
              "    }\n",
              "\n",
              "    .colab-df-convert {\n",
              "      background-color: #E8F0FE;\n",
              "      border: none;\n",
              "      border-radius: 50%;\n",
              "      cursor: pointer;\n",
              "      display: none;\n",
              "      fill: #1967D2;\n",
              "      height: 32px;\n",
              "      padding: 0 0 0 0;\n",
              "      width: 32px;\n",
              "    }\n",
              "\n",
              "    .colab-df-convert:hover {\n",
              "      background-color: #E2EBFA;\n",
              "      box-shadow: 0px 1px 2px rgba(60, 64, 67, 0.3), 0px 1px 3px 1px rgba(60, 64, 67, 0.15);\n",
              "      fill: #174EA6;\n",
              "    }\n",
              "\n",
              "    .colab-df-buttons div {\n",
              "      margin-bottom: 4px;\n",
              "    }\n",
              "\n",
              "    [theme=dark] .colab-df-convert {\n",
              "      background-color: #3B4455;\n",
              "      fill: #D2E3FC;\n",
              "    }\n",
              "\n",
              "    [theme=dark] .colab-df-convert:hover {\n",
              "      background-color: #434B5C;\n",
              "      box-shadow: 0px 1px 3px 1px rgba(0, 0, 0, 0.15);\n",
              "      filter: drop-shadow(0px 1px 2px rgba(0, 0, 0, 0.3));\n",
              "      fill: #FFFFFF;\n",
              "    }\n",
              "  </style>\n",
              "\n",
              "    <script>\n",
              "      const buttonEl =\n",
              "        document.querySelector('#df-1db88f78-1b71-4704-b62b-6841ae01ab5b button.colab-df-convert');\n",
              "      buttonEl.style.display =\n",
              "        google.colab.kernel.accessAllowed ? 'block' : 'none';\n",
              "\n",
              "      async function convertToInteractive(key) {\n",
              "        const element = document.querySelector('#df-1db88f78-1b71-4704-b62b-6841ae01ab5b');\n",
              "        const dataTable =\n",
              "          await google.colab.kernel.invokeFunction('convertToInteractive',\n",
              "                                                    [key], {});\n",
              "        if (!dataTable) return;\n",
              "\n",
              "        const docLinkHtml = 'Like what you see? Visit the ' +\n",
              "          '<a target=\"_blank\" href=https://colab.research.google.com/notebooks/data_table.ipynb>data table notebook</a>'\n",
              "          + ' to learn more about interactive tables.';\n",
              "        element.innerHTML = '';\n",
              "        dataTable['output_type'] = 'display_data';\n",
              "        await google.colab.output.renderOutput(dataTable, element);\n",
              "        const docLink = document.createElement('div');\n",
              "        docLink.innerHTML = docLinkHtml;\n",
              "        element.appendChild(docLink);\n",
              "      }\n",
              "    </script>\n",
              "  </div>\n",
              "\n",
              "\n",
              "<div id=\"df-971212db-5910-4902-bf80-93aa239f07b5\">\n",
              "  <button class=\"colab-df-quickchart\" onclick=\"quickchart('df-971212db-5910-4902-bf80-93aa239f07b5')\"\n",
              "            title=\"Suggest charts\"\n",
              "            style=\"display:none;\">\n",
              "\n",
              "<svg xmlns=\"http://www.w3.org/2000/svg\" height=\"24px\"viewBox=\"0 0 24 24\"\n",
              "     width=\"24px\">\n",
              "    <g>\n",
              "        <path d=\"M19 3H5c-1.1 0-2 .9-2 2v14c0 1.1.9 2 2 2h14c1.1 0 2-.9 2-2V5c0-1.1-.9-2-2-2zM9 17H7v-7h2v7zm4 0h-2V7h2v10zm4 0h-2v-4h2v4z\"/>\n",
              "    </g>\n",
              "</svg>\n",
              "  </button>\n",
              "\n",
              "<style>\n",
              "  .colab-df-quickchart {\n",
              "      --bg-color: #E8F0FE;\n",
              "      --fill-color: #1967D2;\n",
              "      --hover-bg-color: #E2EBFA;\n",
              "      --hover-fill-color: #174EA6;\n",
              "      --disabled-fill-color: #AAA;\n",
              "      --disabled-bg-color: #DDD;\n",
              "  }\n",
              "\n",
              "  [theme=dark] .colab-df-quickchart {\n",
              "      --bg-color: #3B4455;\n",
              "      --fill-color: #D2E3FC;\n",
              "      --hover-bg-color: #434B5C;\n",
              "      --hover-fill-color: #FFFFFF;\n",
              "      --disabled-bg-color: #3B4455;\n",
              "      --disabled-fill-color: #666;\n",
              "  }\n",
              "\n",
              "  .colab-df-quickchart {\n",
              "    background-color: var(--bg-color);\n",
              "    border: none;\n",
              "    border-radius: 50%;\n",
              "    cursor: pointer;\n",
              "    display: none;\n",
              "    fill: var(--fill-color);\n",
              "    height: 32px;\n",
              "    padding: 0;\n",
              "    width: 32px;\n",
              "  }\n",
              "\n",
              "  .colab-df-quickchart:hover {\n",
              "    background-color: var(--hover-bg-color);\n",
              "    box-shadow: 0 1px 2px rgba(60, 64, 67, 0.3), 0 1px 3px 1px rgba(60, 64, 67, 0.15);\n",
              "    fill: var(--button-hover-fill-color);\n",
              "  }\n",
              "\n",
              "  .colab-df-quickchart-complete:disabled,\n",
              "  .colab-df-quickchart-complete:disabled:hover {\n",
              "    background-color: var(--disabled-bg-color);\n",
              "    fill: var(--disabled-fill-color);\n",
              "    box-shadow: none;\n",
              "  }\n",
              "\n",
              "  .colab-df-spinner {\n",
              "    border: 2px solid var(--fill-color);\n",
              "    border-color: transparent;\n",
              "    border-bottom-color: var(--fill-color);\n",
              "    animation:\n",
              "      spin 1s steps(1) infinite;\n",
              "  }\n",
              "\n",
              "  @keyframes spin {\n",
              "    0% {\n",
              "      border-color: transparent;\n",
              "      border-bottom-color: var(--fill-color);\n",
              "      border-left-color: var(--fill-color);\n",
              "    }\n",
              "    20% {\n",
              "      border-color: transparent;\n",
              "      border-left-color: var(--fill-color);\n",
              "      border-top-color: var(--fill-color);\n",
              "    }\n",
              "    30% {\n",
              "      border-color: transparent;\n",
              "      border-left-color: var(--fill-color);\n",
              "      border-top-color: var(--fill-color);\n",
              "      border-right-color: var(--fill-color);\n",
              "    }\n",
              "    40% {\n",
              "      border-color: transparent;\n",
              "      border-right-color: var(--fill-color);\n",
              "      border-top-color: var(--fill-color);\n",
              "    }\n",
              "    60% {\n",
              "      border-color: transparent;\n",
              "      border-right-color: var(--fill-color);\n",
              "    }\n",
              "    80% {\n",
              "      border-color: transparent;\n",
              "      border-right-color: var(--fill-color);\n",
              "      border-bottom-color: var(--fill-color);\n",
              "    }\n",
              "    90% {\n",
              "      border-color: transparent;\n",
              "      border-bottom-color: var(--fill-color);\n",
              "    }\n",
              "  }\n",
              "</style>\n",
              "\n",
              "  <script>\n",
              "    async function quickchart(key) {\n",
              "      const quickchartButtonEl =\n",
              "        document.querySelector('#' + key + ' button');\n",
              "      quickchartButtonEl.disabled = true;  // To prevent multiple clicks.\n",
              "      quickchartButtonEl.classList.add('colab-df-spinner');\n",
              "      try {\n",
              "        const charts = await google.colab.kernel.invokeFunction(\n",
              "            'suggestCharts', [key], {});\n",
              "      } catch (error) {\n",
              "        console.error('Error during call to suggestCharts:', error);\n",
              "      }\n",
              "      quickchartButtonEl.classList.remove('colab-df-spinner');\n",
              "      quickchartButtonEl.classList.add('colab-df-quickchart-complete');\n",
              "    }\n",
              "    (() => {\n",
              "      let quickchartButtonEl =\n",
              "        document.querySelector('#df-971212db-5910-4902-bf80-93aa239f07b5 button');\n",
              "      quickchartButtonEl.style.display =\n",
              "        google.colab.kernel.accessAllowed ? 'block' : 'none';\n",
              "    })();\n",
              "  </script>\n",
              "</div>\n",
              "    </div>\n",
              "  </div>\n"
            ],
            "application/vnd.google.colaboratory.intrinsic+json": {
              "type": "dataframe",
              "summary": "{\n  \"name\": \"pd\",\n  \"rows\": 4,\n  \"fields\": [\n    {\n      \"column\": \"\\u0426\\u0435\\u043d\\u043e\\u0432\\u043e\\u0439 \\u0441\\u0435\\u0433\\u043c\\u0435\\u043d\\u0442\",\n      \"properties\": {\n        \"dtype\": \"string\",\n        \"num_unique_values\": 4,\n        \"samples\": [\n          \"\\u042d\\u043a\\u043e\\u043d\\u043e\\u043c\",\n          \"\\u041f\\u0440\\u0435\\u043c\\u0438\\u0443\\u043c\",\n          \"\\u042d\\u043a\\u043e\\u043d\\u043e\\u043c \\u043c\\u0438\\u043d\\u0443\\u0441\"\n        ],\n        \"semantic_type\": \"\",\n        \"description\": \"\"\n      }\n    },\n    {\n      \"column\": \"\\u0426\\u0435\\u043d\\u0430\",\n      \"properties\": {\n        \"dtype\": \"string\",\n        \"num_unique_values\": 4,\n        \"samples\": [\n          \"1291.6 - 1973.7\",\n          \"2977.6 - 10423.5\",\n          \"476.7 - 1291.6\"\n        ],\n        \"semantic_type\": \"\",\n        \"description\": \"\"\n      }\n    },\n    {\n      \"column\": \"\\u041a\\u043e\\u043b\\u0438\\u0447\\u0435\\u0441\\u0442\\u0432\\u043e \\u0437\\u0430\\u043a\\u0430\\u0437\\u043e\\u0432\",\n      \"properties\": {\n        \"dtype\": \"number\",\n        \"std\": 199173,\n        \"min\": 149939,\n        \"max\": 602562,\n        \"num_unique_values\": 4,\n        \"samples\": [\n          294442,\n          149939,\n          602562\n        ],\n        \"semantic_type\": \"\",\n        \"description\": \"\"\n      }\n    }\n  ]\n}"
            }
          },
          "metadata": {},
          "execution_count": 9
        }
      ]
    },
    {
      "cell_type": "markdown",
      "source": [
        "**▶▶▶ ОТВЕТ №2:**\n",
        "\n",
        "**Эконом минус имеет разброс цен от 476.7 до 1291.6 руб**\n",
        "\\\n",
        " **Сегмент эконом начинается с цены 1291.6 до цены 1973.7 руб**\n",
        "\\\n",
        "**Эконом плюс включает в себя цены с 1973.7 по 2977.6 руб**\n",
        "\\\n",
        "**Сегмент премиум начинается с 2977.6 руб**\n",
        " \\\n",
        "\n",
        "(Цены даны с округлением до 1 знака)\n",
        "\n",
        "\\"
      ],
      "metadata": {
        "id": "mColUh43vmn8"
      }
    },
    {
      "cell_type": "markdown",
      "source": [
        "**ЗАДАНИЕ №3**"
      ],
      "metadata": {
        "id": "9XGKJFa1ITZF"
      }
    },
    {
      "cell_type": "markdown",
      "source": [
        "Для нахождения факторов, влияющих на заказы, построим линейную регрессию.\n",
        "\n",
        "Построю модель на всех переменных кроме СКЮ (т.к. она не несет смысловой значимости) и выручки (т.к. она является следствием числа заказов)."
      ],
      "metadata": {
        "id": "lmmRPKUBtETs"
      }
    },
    {
      "cell_type": "code",
      "source": [
        "y = data['orders']\n",
        "X = data.drop(columns=['orders', 'revenue', 'SKU'])\n",
        "X = sm.add_constant(X) # Добавляю константу\n",
        "\n",
        "# Линейная регрессия\n",
        "model = sm.OLS(y, X).fit()\n",
        "\n",
        "# Результаты\n",
        "print(\"\\nR² =\", model.rsquared.round(4))\n",
        "results_summary = model.summary().tables[1]\n",
        "pd.read_html(results_summary.as_html(), header=0, index_col=0)[0]"
      ],
      "metadata": {
        "colab": {
          "base_uri": "https://localhost:8080/",
          "height": 327
        },
        "id": "fyvPRrB-yg6J",
        "outputId": "3e54cd9a-2238-4b55-e361-0707033761b7"
      },
      "execution_count": 10,
      "outputs": [
        {
          "output_type": "stream",
          "name": "stdout",
          "text": [
            "\n",
            "R² = 0.1392\n"
          ]
        },
        {
          "output_type": "stream",
          "name": "stderr",
          "text": [
            "<ipython-input-10-4b1ec3af7c82>:11: FutureWarning: Passing literal html to 'read_html' is deprecated and will be removed in a future version. To read from a literal string, wrap it in a 'StringIO' object.\n",
            "  pd.read_html(results_summary.as_html(), header=0, index_col=0)[0]\n"
          ]
        },
        {
          "output_type": "execute_result",
          "data": {
            "text/plain": [
              "                    coef   std err      t  P>|t|     [0.025     0.975]\n",
              "const          4051.9316  8281.996  0.489  0.625 -12200.000  20300.000\n",
              "discount         55.2129    15.691  3.519  0.000     24.383     86.043\n",
              "card_rating       0.6596     2.372  0.278  0.781     -4.001      5.320\n",
              "review_rating  -773.5251  1645.616 -0.470  0.639  -4006.795   2459.745\n",
              "review_num        0.0508     0.012  4.233  0.000      0.027      0.074\n",
              "price            -0.7592     0.150 -5.065  0.000     -1.054     -0.465"
            ],
            "text/html": [
              "\n",
              "  <div id=\"df-b8f95a79-66a1-4894-922f-99dc4b8a04cb\" class=\"colab-df-container\">\n",
              "    <div>\n",
              "<style scoped>\n",
              "    .dataframe tbody tr th:only-of-type {\n",
              "        vertical-align: middle;\n",
              "    }\n",
              "\n",
              "    .dataframe tbody tr th {\n",
              "        vertical-align: top;\n",
              "    }\n",
              "\n",
              "    .dataframe thead th {\n",
              "        text-align: right;\n",
              "    }\n",
              "</style>\n",
              "<table border=\"1\" class=\"dataframe\">\n",
              "  <thead>\n",
              "    <tr style=\"text-align: right;\">\n",
              "      <th></th>\n",
              "      <th>coef</th>\n",
              "      <th>std err</th>\n",
              "      <th>t</th>\n",
              "      <th>P&gt;|t|</th>\n",
              "      <th>[0.025</th>\n",
              "      <th>0.975]</th>\n",
              "    </tr>\n",
              "  </thead>\n",
              "  <tbody>\n",
              "    <tr>\n",
              "      <th>const</th>\n",
              "      <td>4051.9316</td>\n",
              "      <td>8281.996</td>\n",
              "      <td>0.489</td>\n",
              "      <td>0.625</td>\n",
              "      <td>-12200.000</td>\n",
              "      <td>20300.000</td>\n",
              "    </tr>\n",
              "    <tr>\n",
              "      <th>discount</th>\n",
              "      <td>55.2129</td>\n",
              "      <td>15.691</td>\n",
              "      <td>3.519</td>\n",
              "      <td>0.000</td>\n",
              "      <td>24.383</td>\n",
              "      <td>86.043</td>\n",
              "    </tr>\n",
              "    <tr>\n",
              "      <th>card_rating</th>\n",
              "      <td>0.6596</td>\n",
              "      <td>2.372</td>\n",
              "      <td>0.278</td>\n",
              "      <td>0.781</td>\n",
              "      <td>-4.001</td>\n",
              "      <td>5.320</td>\n",
              "    </tr>\n",
              "    <tr>\n",
              "      <th>review_rating</th>\n",
              "      <td>-773.5251</td>\n",
              "      <td>1645.616</td>\n",
              "      <td>-0.470</td>\n",
              "      <td>0.639</td>\n",
              "      <td>-4006.795</td>\n",
              "      <td>2459.745</td>\n",
              "    </tr>\n",
              "    <tr>\n",
              "      <th>review_num</th>\n",
              "      <td>0.0508</td>\n",
              "      <td>0.012</td>\n",
              "      <td>4.233</td>\n",
              "      <td>0.000</td>\n",
              "      <td>0.027</td>\n",
              "      <td>0.074</td>\n",
              "    </tr>\n",
              "    <tr>\n",
              "      <th>price</th>\n",
              "      <td>-0.7592</td>\n",
              "      <td>0.150</td>\n",
              "      <td>-5.065</td>\n",
              "      <td>0.000</td>\n",
              "      <td>-1.054</td>\n",
              "      <td>-0.465</td>\n",
              "    </tr>\n",
              "  </tbody>\n",
              "</table>\n",
              "</div>\n",
              "    <div class=\"colab-df-buttons\">\n",
              "\n",
              "  <div class=\"colab-df-container\">\n",
              "    <button class=\"colab-df-convert\" onclick=\"convertToInteractive('df-b8f95a79-66a1-4894-922f-99dc4b8a04cb')\"\n",
              "            title=\"Convert this dataframe to an interactive table.\"\n",
              "            style=\"display:none;\">\n",
              "\n",
              "  <svg xmlns=\"http://www.w3.org/2000/svg\" height=\"24px\" viewBox=\"0 -960 960 960\">\n",
              "    <path d=\"M120-120v-720h720v720H120Zm60-500h600v-160H180v160Zm220 220h160v-160H400v160Zm0 220h160v-160H400v160ZM180-400h160v-160H180v160Zm440 0h160v-160H620v160ZM180-180h160v-160H180v160Zm440 0h160v-160H620v160Z\"/>\n",
              "  </svg>\n",
              "    </button>\n",
              "\n",
              "  <style>\n",
              "    .colab-df-container {\n",
              "      display:flex;\n",
              "      gap: 12px;\n",
              "    }\n",
              "\n",
              "    .colab-df-convert {\n",
              "      background-color: #E8F0FE;\n",
              "      border: none;\n",
              "      border-radius: 50%;\n",
              "      cursor: pointer;\n",
              "      display: none;\n",
              "      fill: #1967D2;\n",
              "      height: 32px;\n",
              "      padding: 0 0 0 0;\n",
              "      width: 32px;\n",
              "    }\n",
              "\n",
              "    .colab-df-convert:hover {\n",
              "      background-color: #E2EBFA;\n",
              "      box-shadow: 0px 1px 2px rgba(60, 64, 67, 0.3), 0px 1px 3px 1px rgba(60, 64, 67, 0.15);\n",
              "      fill: #174EA6;\n",
              "    }\n",
              "\n",
              "    .colab-df-buttons div {\n",
              "      margin-bottom: 4px;\n",
              "    }\n",
              "\n",
              "    [theme=dark] .colab-df-convert {\n",
              "      background-color: #3B4455;\n",
              "      fill: #D2E3FC;\n",
              "    }\n",
              "\n",
              "    [theme=dark] .colab-df-convert:hover {\n",
              "      background-color: #434B5C;\n",
              "      box-shadow: 0px 1px 3px 1px rgba(0, 0, 0, 0.15);\n",
              "      filter: drop-shadow(0px 1px 2px rgba(0, 0, 0, 0.3));\n",
              "      fill: #FFFFFF;\n",
              "    }\n",
              "  </style>\n",
              "\n",
              "    <script>\n",
              "      const buttonEl =\n",
              "        document.querySelector('#df-b8f95a79-66a1-4894-922f-99dc4b8a04cb button.colab-df-convert');\n",
              "      buttonEl.style.display =\n",
              "        google.colab.kernel.accessAllowed ? 'block' : 'none';\n",
              "\n",
              "      async function convertToInteractive(key) {\n",
              "        const element = document.querySelector('#df-b8f95a79-66a1-4894-922f-99dc4b8a04cb');\n",
              "        const dataTable =\n",
              "          await google.colab.kernel.invokeFunction('convertToInteractive',\n",
              "                                                    [key], {});\n",
              "        if (!dataTable) return;\n",
              "\n",
              "        const docLinkHtml = 'Like what you see? Visit the ' +\n",
              "          '<a target=\"_blank\" href=https://colab.research.google.com/notebooks/data_table.ipynb>data table notebook</a>'\n",
              "          + ' to learn more about interactive tables.';\n",
              "        element.innerHTML = '';\n",
              "        dataTable['output_type'] = 'display_data';\n",
              "        await google.colab.output.renderOutput(dataTable, element);\n",
              "        const docLink = document.createElement('div');\n",
              "        docLink.innerHTML = docLinkHtml;\n",
              "        element.appendChild(docLink);\n",
              "      }\n",
              "    </script>\n",
              "  </div>\n",
              "\n",
              "\n",
              "<div id=\"df-f82e13c1-dee0-43c0-9b9b-ef34e6fc672a\">\n",
              "  <button class=\"colab-df-quickchart\" onclick=\"quickchart('df-f82e13c1-dee0-43c0-9b9b-ef34e6fc672a')\"\n",
              "            title=\"Suggest charts\"\n",
              "            style=\"display:none;\">\n",
              "\n",
              "<svg xmlns=\"http://www.w3.org/2000/svg\" height=\"24px\"viewBox=\"0 0 24 24\"\n",
              "     width=\"24px\">\n",
              "    <g>\n",
              "        <path d=\"M19 3H5c-1.1 0-2 .9-2 2v14c0 1.1.9 2 2 2h14c1.1 0 2-.9 2-2V5c0-1.1-.9-2-2-2zM9 17H7v-7h2v7zm4 0h-2V7h2v10zm4 0h-2v-4h2v4z\"/>\n",
              "    </g>\n",
              "</svg>\n",
              "  </button>\n",
              "\n",
              "<style>\n",
              "  .colab-df-quickchart {\n",
              "      --bg-color: #E8F0FE;\n",
              "      --fill-color: #1967D2;\n",
              "      --hover-bg-color: #E2EBFA;\n",
              "      --hover-fill-color: #174EA6;\n",
              "      --disabled-fill-color: #AAA;\n",
              "      --disabled-bg-color: #DDD;\n",
              "  }\n",
              "\n",
              "  [theme=dark] .colab-df-quickchart {\n",
              "      --bg-color: #3B4455;\n",
              "      --fill-color: #D2E3FC;\n",
              "      --hover-bg-color: #434B5C;\n",
              "      --hover-fill-color: #FFFFFF;\n",
              "      --disabled-bg-color: #3B4455;\n",
              "      --disabled-fill-color: #666;\n",
              "  }\n",
              "\n",
              "  .colab-df-quickchart {\n",
              "    background-color: var(--bg-color);\n",
              "    border: none;\n",
              "    border-radius: 50%;\n",
              "    cursor: pointer;\n",
              "    display: none;\n",
              "    fill: var(--fill-color);\n",
              "    height: 32px;\n",
              "    padding: 0;\n",
              "    width: 32px;\n",
              "  }\n",
              "\n",
              "  .colab-df-quickchart:hover {\n",
              "    background-color: var(--hover-bg-color);\n",
              "    box-shadow: 0 1px 2px rgba(60, 64, 67, 0.3), 0 1px 3px 1px rgba(60, 64, 67, 0.15);\n",
              "    fill: var(--button-hover-fill-color);\n",
              "  }\n",
              "\n",
              "  .colab-df-quickchart-complete:disabled,\n",
              "  .colab-df-quickchart-complete:disabled:hover {\n",
              "    background-color: var(--disabled-bg-color);\n",
              "    fill: var(--disabled-fill-color);\n",
              "    box-shadow: none;\n",
              "  }\n",
              "\n",
              "  .colab-df-spinner {\n",
              "    border: 2px solid var(--fill-color);\n",
              "    border-color: transparent;\n",
              "    border-bottom-color: var(--fill-color);\n",
              "    animation:\n",
              "      spin 1s steps(1) infinite;\n",
              "  }\n",
              "\n",
              "  @keyframes spin {\n",
              "    0% {\n",
              "      border-color: transparent;\n",
              "      border-bottom-color: var(--fill-color);\n",
              "      border-left-color: var(--fill-color);\n",
              "    }\n",
              "    20% {\n",
              "      border-color: transparent;\n",
              "      border-left-color: var(--fill-color);\n",
              "      border-top-color: var(--fill-color);\n",
              "    }\n",
              "    30% {\n",
              "      border-color: transparent;\n",
              "      border-left-color: var(--fill-color);\n",
              "      border-top-color: var(--fill-color);\n",
              "      border-right-color: var(--fill-color);\n",
              "    }\n",
              "    40% {\n",
              "      border-color: transparent;\n",
              "      border-right-color: var(--fill-color);\n",
              "      border-top-color: var(--fill-color);\n",
              "    }\n",
              "    60% {\n",
              "      border-color: transparent;\n",
              "      border-right-color: var(--fill-color);\n",
              "    }\n",
              "    80% {\n",
              "      border-color: transparent;\n",
              "      border-right-color: var(--fill-color);\n",
              "      border-bottom-color: var(--fill-color);\n",
              "    }\n",
              "    90% {\n",
              "      border-color: transparent;\n",
              "      border-bottom-color: var(--fill-color);\n",
              "    }\n",
              "  }\n",
              "</style>\n",
              "\n",
              "  <script>\n",
              "    async function quickchart(key) {\n",
              "      const quickchartButtonEl =\n",
              "        document.querySelector('#' + key + ' button');\n",
              "      quickchartButtonEl.disabled = true;  // To prevent multiple clicks.\n",
              "      quickchartButtonEl.classList.add('colab-df-spinner');\n",
              "      try {\n",
              "        const charts = await google.colab.kernel.invokeFunction(\n",
              "            'suggestCharts', [key], {});\n",
              "      } catch (error) {\n",
              "        console.error('Error during call to suggestCharts:', error);\n",
              "      }\n",
              "      quickchartButtonEl.classList.remove('colab-df-spinner');\n",
              "      quickchartButtonEl.classList.add('colab-df-quickchart-complete');\n",
              "    }\n",
              "    (() => {\n",
              "      let quickchartButtonEl =\n",
              "        document.querySelector('#df-f82e13c1-dee0-43c0-9b9b-ef34e6fc672a button');\n",
              "      quickchartButtonEl.style.display =\n",
              "        google.colab.kernel.accessAllowed ? 'block' : 'none';\n",
              "    })();\n",
              "  </script>\n",
              "</div>\n",
              "    </div>\n",
              "  </div>\n"
            ],
            "application/vnd.google.colaboratory.intrinsic+json": {
              "type": "dataframe",
              "summary": "{\n  \"name\": \"pd\",\n  \"rows\": 6,\n  \"fields\": [\n    {\n      \"column\": \"coef\",\n      \"properties\": {\n        \"dtype\": \"number\",\n        \"std\": 1741.6902571300307,\n        \"min\": -773.5251,\n        \"max\": 4051.9316,\n        \"num_unique_values\": 6,\n        \"samples\": [\n          4051.9316,\n          55.2129,\n          -0.7592\n        ],\n        \"semantic_type\": \"\",\n        \"description\": \"\"\n      }\n    },\n    {\n      \"column\": \"std err\",\n      \"properties\": {\n        \"dtype\": \"number\",\n        \"std\": 3310.986238214212,\n        \"min\": 0.012,\n        \"max\": 8281.996,\n        \"num_unique_values\": 6,\n        \"samples\": [\n          8281.996,\n          15.691,\n          0.15\n        ],\n        \"semantic_type\": \"\",\n        \"description\": \"\"\n      }\n    },\n    {\n      \"column\": \"t\",\n      \"properties\": {\n        \"dtype\": \"number\",\n        \"std\": 3.3169002798797953,\n        \"min\": -5.065,\n        \"max\": 4.233,\n        \"num_unique_values\": 6,\n        \"samples\": [\n          0.489,\n          3.519,\n          -5.065\n        ],\n        \"semantic_type\": \"\",\n        \"description\": \"\"\n      }\n    },\n    {\n      \"column\": \"P>|t|\",\n      \"properties\": {\n        \"dtype\": \"number\",\n        \"std\": 0.37733349528854004,\n        \"min\": 0.0,\n        \"max\": 0.781,\n        \"num_unique_values\": 4,\n        \"samples\": [\n          0.0,\n          0.639,\n          0.625\n        ],\n        \"semantic_type\": \"\",\n        \"description\": \"\"\n      }\n    },\n    {\n      \"column\": \"[0.025\",\n      \"properties\": {\n        \"dtype\": \"number\",\n        \"std\": 4923.876837007469,\n        \"min\": -12200.0,\n        \"max\": 24.383,\n        \"num_unique_values\": 6,\n        \"samples\": [\n          -12200.0,\n          24.383,\n          -1.054\n        ],\n        \"semantic_type\": \"\",\n        \"description\": \"\"\n      }\n    },\n    {\n      \"column\": \"0.975]\",\n      \"properties\": {\n        \"dtype\": \"number\",\n        \"std\": 8137.836315441923,\n        \"min\": -0.465,\n        \"max\": 20300.0,\n        \"num_unique_values\": 6,\n        \"samples\": [\n          20300.0,\n          86.043,\n          -0.465\n        ],\n        \"semantic_type\": \"\",\n        \"description\": \"\"\n      }\n    }\n  ]\n}"
            }
          },
          "metadata": {},
          "execution_count": 10
        }
      ]
    },
    {
      "cell_type": "markdown",
      "source": [
        "Факторами, статистически значимо влияющими на количество заказов, оказались: скидка, цена и количество отзывов. Остальные переменные имеют p-value > 0.05, то есть вероятность ошибиться, поверив в их коэффициенты, слишком велика.\n",
        "\n",
        "Модель имеет объясняющую силу 13.9% (R^2 = 0.139), что уже в два раза больше, чем однофакторная регрессия, однако все еще достаточно мало. Возможно, этот показатель можно повысить, добавив в модель другие признаки, потенциально влияющие на число заказов - например, сезонность.\n",
        "\n",
        "Также можно заметить, что коэффициент при цене немного повысился (с 0.71 до 0.76). Коэффициент 0.76 заслуживает большего доверия, т.к. он был получен благодаря учету факторов, которые не были проанализированы в первом задании."
      ],
      "metadata": {
        "id": "DUcLBKlYtCCC"
      }
    },
    {
      "cell_type": "markdown",
      "source": [
        "**▶▶▶ ОТВЕТ №3:**\n",
        "\n",
        "**При увеличении скидки на 1%, количество заказов увеиличивается на 55.2 штуки**\n",
        "\\\n",
        "**При увеличении цены на 1 руб, количество заказов уменьшается на 0.76 штук**\n",
        "\\\n",
        "**При увеличении отзывов на 1, количество заказов увеличивается на 0.05 штук**\n"
      ],
      "metadata": {
        "id": "s5yfJD_3vNcc"
      }
    }
  ]
}